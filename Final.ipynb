{
 "cells": [
  {
   "cell_type": "code",
   "execution_count": null,
   "metadata": {},
   "outputs": [],
   "source": [
    "import requests\n",
    "from bs4 import BeautifulSoup\n",
    "for id_number in range(11400, 11600):\n",
    "    url = 'https://movies.yahoo.com.tw/movieinfo_main/id='\n",
    "    r = requests.get(url+ str(id_number))\n",
    "    soup = BeautifulSoup(r.text)\n",
    "    soup\n",
    "    for d in soup.find_all('div', class_=\"movie_intro_info_r\"):\n",
    "        if (d.find('div', class_=\"level_name_box\").text.strip() == '' or  d.find('div', class_=\"level_name_box\").text.strip() == 'None'):\n",
    "            print(id_number,'，無此網址')\n",
    "        "
   ]
  },
  {
   "cell_type": "code",
   "execution_count": null,
   "metadata": {},
   "outputs": [],
   "source": []
  }
 ],
 "metadata": {
  "kernelspec": {
   "display_name": "Python 3",
   "language": "python",
   "name": "python3"
  },
  "language_info": {
   "codemirror_mode": {
    "name": "ipython",
    "version": 3
   },
   "file_extension": ".py",
   "mimetype": "text/x-python",
   "name": "python",
   "nbconvert_exporter": "python",
   "pygments_lexer": "ipython3",
   "version": "3.7.1"
  }
 },
 "nbformat": 4,
 "nbformat_minor": 2
}
